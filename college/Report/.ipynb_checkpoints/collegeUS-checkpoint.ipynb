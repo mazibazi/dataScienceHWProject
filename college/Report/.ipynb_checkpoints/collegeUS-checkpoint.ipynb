{
 "cells": [
  {
   "cell_type": "code",
   "execution_count": 1,
   "id": "3b3e274c",
   "metadata": {},
   "outputs": [
    {
     "ename": "ERROR",
     "evalue": "Error in setwd(\"D:/PhD/DataScience/dataScienceHWProject/college\"): cannot change working directory\n",
     "output_type": "error",
     "traceback": [
      "Error in setwd(\"D:/PhD/DataScience/dataScienceHWProject/college\"): cannot change working directory\nTraceback:\n",
      "1. setwd(\"D:/PhD/DataScience/dataScienceHWProject/college\")"
     ]
    }
   ],
   "source": [
    "setwd(\"D:/PhD/DataScience/dataScienceHWProject/college\")\n",
    "getwd()"
   ]
  }
 ],
 "metadata": {
  "kernelspec": {
   "display_name": "R",
   "language": "R",
   "name": "ir"
  },
  "language_info": {
   "codemirror_mode": "r",
   "file_extension": ".r",
   "mimetype": "text/x-r-source",
   "name": "R",
   "pygments_lexer": "r",
   "version": "3.6.1"
  }
 },
 "nbformat": 4,
 "nbformat_minor": 5
}
